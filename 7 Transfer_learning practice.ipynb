{
 "cells": [
  {
   "cell_type": "code",
   "execution_count": 5,
   "metadata": {
    "id": "bLbCdSIc121k"
   },
   "outputs": [],
   "source": [
    "%matplotlib inline"
   ]
  },
  {
   "cell_type": "code",
   "execution_count": 6,
   "metadata": {
    "id": "Ucanx7sH121p"
   },
   "outputs": [
    {
     "data": {
      "text/plain": [
       "<contextlib.ExitStack at 0x2b21d95bee0>"
      ]
     },
     "execution_count": 6,
     "metadata": {},
     "output_type": "execute_result"
    }
   ],
   "source": [
    "# License: BSD\n",
    "# Author: Sasank Chilamkurthy\n",
    "\n",
    "from __future__ import print_function, division\n",
    "\n",
    "import torch\n",
    "import torch.nn as nn\n",
    "import torch.optim as optim\n",
    "from torch.optim import lr_scheduler\n",
    "import numpy as np\n",
    "import torchvision\n",
    "from torchvision import datasets, models, transforms\n",
    "import matplotlib.pyplot as plt\n",
    "import time\n",
    "import os\n",
    "import copy\n",
    "\n",
    "plt.ion()   # interactive mode"
   ]
  },
  {
   "cell_type": "markdown",
   "metadata": {
    "id": "-RPLh-01121q"
   },
   "source": [
    "Load Data\n",
    "---------\n",
    "\n",
    "We will use torchvision and torch.utils.data packages for loading the\n",
    "data.\n",
    "\n",
    "The problem we're going to solve today is to train a model to classify\n",
    "**ants** and **bees**. We have about 120 training images each for ants and bees.\n",
    "There are 75 validation images for each class. Usually, this is a very\n",
    "small dataset to generalize upon, if trained from scratch. Since we\n",
    "are using transfer learning, we should be able to generalize reasonably\n",
    "well.\n",
    "\n",
    "This dataset is a very small subset of imagenet.\n",
    "\n",
    ".. Note ::\n",
    "   Download the data from\n",
    "   `here <https://download.pytorch.org/tutorial/hymenoptera_data.zip>`_\n",
    "   and extract it to the current directory.\n",
    "\n"
   ]
  },
  {
   "cell_type": "code",
   "execution_count": 3,
   "metadata": {
    "colab": {
     "base_uri": "https://localhost:8080/"
    },
    "id": "EQCL3z532-mT",
    "outputId": "8de061e9-b152-44d9-ad40-f29902140af9"
   },
   "outputs": [
    {
     "name": "stderr",
     "output_type": "stream",
     "text": [
      "'wget' is not recognized as an internal or external command,\n",
      "operable program or batch file.\n",
      "'unzip' is not recognized as an internal or external command,\n",
      "operable program or batch file.\n"
     ]
    }
   ],
   "source": [
    "!wget https://download.pytorch.org/tutorial/hymenoptera_data.zip\n",
    "!unzip hymenoptera_data.zip -d data"
   ]
  },
  {
   "cell_type": "code",
   "execution_count": null,
   "metadata": {
    "id": "s9JGay6BARU5"
   },
   "outputs": [],
   "source": []
  },
  {
   "cell_type": "code",
   "execution_count": 4,
   "metadata": {
    "colab": {
     "base_uri": "https://localhost:8080/"
    },
    "id": "Eu3p-1Yk121r",
    "outputId": "cb9d316a-eaf6-4d40-8cf0-4cc03955f973"
   },
   "outputs": [
    {
     "ename": "FileNotFoundError",
     "evalue": "[WinError 3] The system cannot find the path specified: 'data/hymenoptera_data\\\\train'",
     "output_type": "error",
     "traceback": [
      "\u001b[1;31m---------------------------------------------------------------------------\u001b[0m",
      "\u001b[1;31mFileNotFoundError\u001b[0m                         Traceback (most recent call last)",
      "Cell \u001b[1;32mIn [4], line 23\u001b[0m\n\u001b[0;32m      3\u001b[0m data_transforms \u001b[38;5;241m=\u001b[39m {\n\u001b[0;32m      4\u001b[0m     \u001b[38;5;124m'\u001b[39m\u001b[38;5;124mtrain\u001b[39m\u001b[38;5;124m'\u001b[39m: transforms\u001b[38;5;241m.\u001b[39mCompose([\n\u001b[0;32m      5\u001b[0m         transforms\u001b[38;5;241m.\u001b[39mRandomResizedCrop(\u001b[38;5;241m224\u001b[39m),\n\u001b[1;32m   (...)\u001b[0m\n\u001b[0;32m     19\u001b[0m     ]),\n\u001b[0;32m     20\u001b[0m }\n\u001b[0;32m     22\u001b[0m data_dir \u001b[38;5;241m=\u001b[39m \u001b[38;5;124m'\u001b[39m\u001b[38;5;124mdata/hymenoptera_data\u001b[39m\u001b[38;5;124m'\u001b[39m\n\u001b[1;32m---> 23\u001b[0m image_datasets \u001b[38;5;241m=\u001b[39m {x: datasets\u001b[38;5;241m.\u001b[39mImageFolder(os\u001b[38;5;241m.\u001b[39mpath\u001b[38;5;241m.\u001b[39mjoin(data_dir, x), data_transforms[x]) \u001b[38;5;28;01mfor\u001b[39;00m x \u001b[38;5;129;01min\u001b[39;00m [\u001b[38;5;124m'\u001b[39m\u001b[38;5;124mtrain\u001b[39m\u001b[38;5;124m'\u001b[39m, \u001b[38;5;124m'\u001b[39m\u001b[38;5;124mval\u001b[39m\u001b[38;5;124m'\u001b[39m]}\n\u001b[0;32m     24\u001b[0m dataloaders \u001b[38;5;241m=\u001b[39m {x: torch\u001b[38;5;241m.\u001b[39mutils\u001b[38;5;241m.\u001b[39mdata\u001b[38;5;241m.\u001b[39mDataLoader(image_datasets[x], batch_size\u001b[38;5;241m=\u001b[39m\u001b[38;5;241m4\u001b[39m, shuffle\u001b[38;5;241m=\u001b[39m\u001b[38;5;28;01mTrue\u001b[39;00m, num_workers\u001b[38;5;241m=\u001b[39m\u001b[38;5;241m4\u001b[39m) \u001b[38;5;28;01mfor\u001b[39;00m x \u001b[38;5;129;01min\u001b[39;00m [\u001b[38;5;124m'\u001b[39m\u001b[38;5;124mtrain\u001b[39m\u001b[38;5;124m'\u001b[39m, \u001b[38;5;124m'\u001b[39m\u001b[38;5;124mval\u001b[39m\u001b[38;5;124m'\u001b[39m]}\n\u001b[0;32m     25\u001b[0m dataset_sizes \u001b[38;5;241m=\u001b[39m {x: \u001b[38;5;28mlen\u001b[39m(image_datasets[x]) \u001b[38;5;28;01mfor\u001b[39;00m x \u001b[38;5;129;01min\u001b[39;00m [\u001b[38;5;124m'\u001b[39m\u001b[38;5;124mtrain\u001b[39m\u001b[38;5;124m'\u001b[39m, \u001b[38;5;124m'\u001b[39m\u001b[38;5;124mval\u001b[39m\u001b[38;5;124m'\u001b[39m]}\n",
      "Cell \u001b[1;32mIn [4], line 23\u001b[0m, in \u001b[0;36m<dictcomp>\u001b[1;34m(.0)\u001b[0m\n\u001b[0;32m      3\u001b[0m data_transforms \u001b[38;5;241m=\u001b[39m {\n\u001b[0;32m      4\u001b[0m     \u001b[38;5;124m'\u001b[39m\u001b[38;5;124mtrain\u001b[39m\u001b[38;5;124m'\u001b[39m: transforms\u001b[38;5;241m.\u001b[39mCompose([\n\u001b[0;32m      5\u001b[0m         transforms\u001b[38;5;241m.\u001b[39mRandomResizedCrop(\u001b[38;5;241m224\u001b[39m),\n\u001b[1;32m   (...)\u001b[0m\n\u001b[0;32m     19\u001b[0m     ]),\n\u001b[0;32m     20\u001b[0m }\n\u001b[0;32m     22\u001b[0m data_dir \u001b[38;5;241m=\u001b[39m \u001b[38;5;124m'\u001b[39m\u001b[38;5;124mdata/hymenoptera_data\u001b[39m\u001b[38;5;124m'\u001b[39m\n\u001b[1;32m---> 23\u001b[0m image_datasets \u001b[38;5;241m=\u001b[39m {x: \u001b[43mdatasets\u001b[49m\u001b[38;5;241;43m.\u001b[39;49m\u001b[43mImageFolder\u001b[49m\u001b[43m(\u001b[49m\u001b[43mos\u001b[49m\u001b[38;5;241;43m.\u001b[39;49m\u001b[43mpath\u001b[49m\u001b[38;5;241;43m.\u001b[39;49m\u001b[43mjoin\u001b[49m\u001b[43m(\u001b[49m\u001b[43mdata_dir\u001b[49m\u001b[43m,\u001b[49m\u001b[43m \u001b[49m\u001b[43mx\u001b[49m\u001b[43m)\u001b[49m\u001b[43m,\u001b[49m\u001b[43m \u001b[49m\u001b[43mdata_transforms\u001b[49m\u001b[43m[\u001b[49m\u001b[43mx\u001b[49m\u001b[43m]\u001b[49m\u001b[43m)\u001b[49m \u001b[38;5;28;01mfor\u001b[39;00m x \u001b[38;5;129;01min\u001b[39;00m [\u001b[38;5;124m'\u001b[39m\u001b[38;5;124mtrain\u001b[39m\u001b[38;5;124m'\u001b[39m, \u001b[38;5;124m'\u001b[39m\u001b[38;5;124mval\u001b[39m\u001b[38;5;124m'\u001b[39m]}\n\u001b[0;32m     24\u001b[0m dataloaders \u001b[38;5;241m=\u001b[39m {x: torch\u001b[38;5;241m.\u001b[39mutils\u001b[38;5;241m.\u001b[39mdata\u001b[38;5;241m.\u001b[39mDataLoader(image_datasets[x], batch_size\u001b[38;5;241m=\u001b[39m\u001b[38;5;241m4\u001b[39m, shuffle\u001b[38;5;241m=\u001b[39m\u001b[38;5;28;01mTrue\u001b[39;00m, num_workers\u001b[38;5;241m=\u001b[39m\u001b[38;5;241m4\u001b[39m) \u001b[38;5;28;01mfor\u001b[39;00m x \u001b[38;5;129;01min\u001b[39;00m [\u001b[38;5;124m'\u001b[39m\u001b[38;5;124mtrain\u001b[39m\u001b[38;5;124m'\u001b[39m, \u001b[38;5;124m'\u001b[39m\u001b[38;5;124mval\u001b[39m\u001b[38;5;124m'\u001b[39m]}\n\u001b[0;32m     25\u001b[0m dataset_sizes \u001b[38;5;241m=\u001b[39m {x: \u001b[38;5;28mlen\u001b[39m(image_datasets[x]) \u001b[38;5;28;01mfor\u001b[39;00m x \u001b[38;5;129;01min\u001b[39;00m [\u001b[38;5;124m'\u001b[39m\u001b[38;5;124mtrain\u001b[39m\u001b[38;5;124m'\u001b[39m, \u001b[38;5;124m'\u001b[39m\u001b[38;5;124mval\u001b[39m\u001b[38;5;124m'\u001b[39m]}\n",
      "File \u001b[1;32m~\\AppData\\Local\\Programs\\Python\\Python310\\lib\\site-packages\\torchvision\\datasets\\folder.py:309\u001b[0m, in \u001b[0;36mImageFolder.__init__\u001b[1;34m(self, root, transform, target_transform, loader, is_valid_file)\u001b[0m\n\u001b[0;32m    301\u001b[0m \u001b[38;5;28;01mdef\u001b[39;00m \u001b[38;5;21m__init__\u001b[39m(\n\u001b[0;32m    302\u001b[0m     \u001b[38;5;28mself\u001b[39m,\n\u001b[0;32m    303\u001b[0m     root: \u001b[38;5;28mstr\u001b[39m,\n\u001b[1;32m   (...)\u001b[0m\n\u001b[0;32m    307\u001b[0m     is_valid_file: Optional[Callable[[\u001b[38;5;28mstr\u001b[39m], \u001b[38;5;28mbool\u001b[39m]] \u001b[38;5;241m=\u001b[39m \u001b[38;5;28;01mNone\u001b[39;00m,\n\u001b[0;32m    308\u001b[0m ):\n\u001b[1;32m--> 309\u001b[0m     \u001b[38;5;28;43msuper\u001b[39;49m\u001b[43m(\u001b[49m\u001b[43m)\u001b[49m\u001b[38;5;241;43m.\u001b[39;49m\u001b[38;5;21;43m__init__\u001b[39;49m\u001b[43m(\u001b[49m\n\u001b[0;32m    310\u001b[0m \u001b[43m        \u001b[49m\u001b[43mroot\u001b[49m\u001b[43m,\u001b[49m\n\u001b[0;32m    311\u001b[0m \u001b[43m        \u001b[49m\u001b[43mloader\u001b[49m\u001b[43m,\u001b[49m\n\u001b[0;32m    312\u001b[0m \u001b[43m        \u001b[49m\u001b[43mIMG_EXTENSIONS\u001b[49m\u001b[43m \u001b[49m\u001b[38;5;28;43;01mif\u001b[39;49;00m\u001b[43m \u001b[49m\u001b[43mis_valid_file\u001b[49m\u001b[43m \u001b[49m\u001b[38;5;129;43;01mis\u001b[39;49;00m\u001b[43m \u001b[49m\u001b[38;5;28;43;01mNone\u001b[39;49;00m\u001b[43m \u001b[49m\u001b[38;5;28;43;01melse\u001b[39;49;00m\u001b[43m \u001b[49m\u001b[38;5;28;43;01mNone\u001b[39;49;00m\u001b[43m,\u001b[49m\n\u001b[0;32m    313\u001b[0m \u001b[43m        \u001b[49m\u001b[43mtransform\u001b[49m\u001b[38;5;241;43m=\u001b[39;49m\u001b[43mtransform\u001b[49m\u001b[43m,\u001b[49m\n\u001b[0;32m    314\u001b[0m \u001b[43m        \u001b[49m\u001b[43mtarget_transform\u001b[49m\u001b[38;5;241;43m=\u001b[39;49m\u001b[43mtarget_transform\u001b[49m\u001b[43m,\u001b[49m\n\u001b[0;32m    315\u001b[0m \u001b[43m        \u001b[49m\u001b[43mis_valid_file\u001b[49m\u001b[38;5;241;43m=\u001b[39;49m\u001b[43mis_valid_file\u001b[49m\u001b[43m,\u001b[49m\n\u001b[0;32m    316\u001b[0m \u001b[43m    \u001b[49m\u001b[43m)\u001b[49m\n\u001b[0;32m    317\u001b[0m     \u001b[38;5;28mself\u001b[39m\u001b[38;5;241m.\u001b[39mimgs \u001b[38;5;241m=\u001b[39m \u001b[38;5;28mself\u001b[39m\u001b[38;5;241m.\u001b[39msamples\n",
      "File \u001b[1;32m~\\AppData\\Local\\Programs\\Python\\Python310\\lib\\site-packages\\torchvision\\datasets\\folder.py:144\u001b[0m, in \u001b[0;36mDatasetFolder.__init__\u001b[1;34m(self, root, loader, extensions, transform, target_transform, is_valid_file)\u001b[0m\n\u001b[0;32m    134\u001b[0m \u001b[38;5;28;01mdef\u001b[39;00m \u001b[38;5;21m__init__\u001b[39m(\n\u001b[0;32m    135\u001b[0m     \u001b[38;5;28mself\u001b[39m,\n\u001b[0;32m    136\u001b[0m     root: \u001b[38;5;28mstr\u001b[39m,\n\u001b[1;32m   (...)\u001b[0m\n\u001b[0;32m    141\u001b[0m     is_valid_file: Optional[Callable[[\u001b[38;5;28mstr\u001b[39m], \u001b[38;5;28mbool\u001b[39m]] \u001b[38;5;241m=\u001b[39m \u001b[38;5;28;01mNone\u001b[39;00m,\n\u001b[0;32m    142\u001b[0m ) \u001b[38;5;241m-\u001b[39m\u001b[38;5;241m>\u001b[39m \u001b[38;5;28;01mNone\u001b[39;00m:\n\u001b[0;32m    143\u001b[0m     \u001b[38;5;28msuper\u001b[39m()\u001b[38;5;241m.\u001b[39m\u001b[38;5;21m__init__\u001b[39m(root, transform\u001b[38;5;241m=\u001b[39mtransform, target_transform\u001b[38;5;241m=\u001b[39mtarget_transform)\n\u001b[1;32m--> 144\u001b[0m     classes, class_to_idx \u001b[38;5;241m=\u001b[39m \u001b[38;5;28;43mself\u001b[39;49m\u001b[38;5;241;43m.\u001b[39;49m\u001b[43mfind_classes\u001b[49m\u001b[43m(\u001b[49m\u001b[38;5;28;43mself\u001b[39;49m\u001b[38;5;241;43m.\u001b[39;49m\u001b[43mroot\u001b[49m\u001b[43m)\u001b[49m\n\u001b[0;32m    145\u001b[0m     samples \u001b[38;5;241m=\u001b[39m \u001b[38;5;28mself\u001b[39m\u001b[38;5;241m.\u001b[39mmake_dataset(\u001b[38;5;28mself\u001b[39m\u001b[38;5;241m.\u001b[39mroot, class_to_idx, extensions, is_valid_file)\n\u001b[0;32m    147\u001b[0m     \u001b[38;5;28mself\u001b[39m\u001b[38;5;241m.\u001b[39mloader \u001b[38;5;241m=\u001b[39m loader\n",
      "File \u001b[1;32m~\\AppData\\Local\\Programs\\Python\\Python310\\lib\\site-packages\\torchvision\\datasets\\folder.py:218\u001b[0m, in \u001b[0;36mDatasetFolder.find_classes\u001b[1;34m(self, directory)\u001b[0m\n\u001b[0;32m    191\u001b[0m \u001b[38;5;28;01mdef\u001b[39;00m \u001b[38;5;21mfind_classes\u001b[39m(\u001b[38;5;28mself\u001b[39m, directory: \u001b[38;5;28mstr\u001b[39m) \u001b[38;5;241m-\u001b[39m\u001b[38;5;241m>\u001b[39m Tuple[List[\u001b[38;5;28mstr\u001b[39m], Dict[\u001b[38;5;28mstr\u001b[39m, \u001b[38;5;28mint\u001b[39m]]:\n\u001b[0;32m    192\u001b[0m     \u001b[38;5;124;03m\"\"\"Find the class folders in a dataset structured as follows::\u001b[39;00m\n\u001b[0;32m    193\u001b[0m \n\u001b[0;32m    194\u001b[0m \u001b[38;5;124;03m        directory/\u001b[39;00m\n\u001b[1;32m   (...)\u001b[0m\n\u001b[0;32m    216\u001b[0m \u001b[38;5;124;03m        (Tuple[List[str], Dict[str, int]]): List of all classes and dictionary mapping each class to an index.\u001b[39;00m\n\u001b[0;32m    217\u001b[0m \u001b[38;5;124;03m    \"\"\"\u001b[39;00m\n\u001b[1;32m--> 218\u001b[0m     \u001b[38;5;28;01mreturn\u001b[39;00m \u001b[43mfind_classes\u001b[49m\u001b[43m(\u001b[49m\u001b[43mdirectory\u001b[49m\u001b[43m)\u001b[49m\n",
      "File \u001b[1;32m~\\AppData\\Local\\Programs\\Python\\Python310\\lib\\site-packages\\torchvision\\datasets\\folder.py:40\u001b[0m, in \u001b[0;36mfind_classes\u001b[1;34m(directory)\u001b[0m\n\u001b[0;32m     35\u001b[0m \u001b[38;5;28;01mdef\u001b[39;00m \u001b[38;5;21mfind_classes\u001b[39m(directory: \u001b[38;5;28mstr\u001b[39m) \u001b[38;5;241m-\u001b[39m\u001b[38;5;241m>\u001b[39m Tuple[List[\u001b[38;5;28mstr\u001b[39m], Dict[\u001b[38;5;28mstr\u001b[39m, \u001b[38;5;28mint\u001b[39m]]:\n\u001b[0;32m     36\u001b[0m     \u001b[38;5;124;03m\"\"\"Finds the class folders in a dataset.\u001b[39;00m\n\u001b[0;32m     37\u001b[0m \n\u001b[0;32m     38\u001b[0m \u001b[38;5;124;03m    See :class:`DatasetFolder` for details.\u001b[39;00m\n\u001b[0;32m     39\u001b[0m \u001b[38;5;124;03m    \"\"\"\u001b[39;00m\n\u001b[1;32m---> 40\u001b[0m     classes \u001b[38;5;241m=\u001b[39m \u001b[38;5;28msorted\u001b[39m(entry\u001b[38;5;241m.\u001b[39mname \u001b[38;5;28;01mfor\u001b[39;00m entry \u001b[38;5;129;01min\u001b[39;00m \u001b[43mos\u001b[49m\u001b[38;5;241;43m.\u001b[39;49m\u001b[43mscandir\u001b[49m\u001b[43m(\u001b[49m\u001b[43mdirectory\u001b[49m\u001b[43m)\u001b[49m \u001b[38;5;28;01mif\u001b[39;00m entry\u001b[38;5;241m.\u001b[39mis_dir())\n\u001b[0;32m     41\u001b[0m     \u001b[38;5;28;01mif\u001b[39;00m \u001b[38;5;129;01mnot\u001b[39;00m classes:\n\u001b[0;32m     42\u001b[0m         \u001b[38;5;28;01mraise\u001b[39;00m \u001b[38;5;167;01mFileNotFoundError\u001b[39;00m(\u001b[38;5;124mf\u001b[39m\u001b[38;5;124m\"\u001b[39m\u001b[38;5;124mCouldn\u001b[39m\u001b[38;5;124m'\u001b[39m\u001b[38;5;124mt find any class folder in \u001b[39m\u001b[38;5;132;01m{\u001b[39;00mdirectory\u001b[38;5;132;01m}\u001b[39;00m\u001b[38;5;124m.\u001b[39m\u001b[38;5;124m\"\u001b[39m)\n",
      "\u001b[1;31mFileNotFoundError\u001b[0m: [WinError 3] The system cannot find the path specified: 'data/hymenoptera_data\\\\train'"
     ]
    }
   ],
   "source": [
    "# Data augmentation and normalization for training\n",
    "# Just normalization for validation\n",
    "data_transforms = {\n",
    "    'train': transforms.Compose([\n",
    "        transforms.RandomResizedCrop(224),\n",
    "        transforms.RandomHorizontalFlip(),\n",
    "        #transforms.RandomVerticalFlip(),\n",
    "        #transforms.RandomAffine(degrees=40, scale=(.9, 1.1), shear=0),\n",
    "        #transforms.RandomPerspective(distortion_scale=0.2),\n",
    "        #transforms.ColorJitter(brightness=0.5, contrast=0.5, saturation=0.5),\n",
    "        transforms.ToTensor(),\n",
    "        transforms.Normalize([0.485, 0.456, 0.406], [0.229, 0.224, 0.225])\n",
    "    ]),\n",
    "    'val': transforms.Compose([\n",
    "        transforms.Resize(256),\n",
    "        transforms.CenterCrop(224),\n",
    "        transforms.ToTensor(),\n",
    "        transforms.Normalize([0.485, 0.456, 0.406], [0.229, 0.224, 0.225])\n",
    "    ]),\n",
    "}\n",
    "\n",
    "data_dir = 'data/hymenoptera_data'\n",
    "image_datasets = {x: datasets.ImageFolder(os.path.join(data_dir, x), data_transforms[x]) for x in ['train', 'val']}\n",
    "dataloaders = {x: torch.utils.data.DataLoader(image_datasets[x], batch_size=4, shuffle=True, num_workers=4) for x in ['train', 'val']}\n",
    "dataset_sizes = {x: len(image_datasets[x]) for x in ['train', 'val']}\n",
    "class_names = image_datasets['train'].classes\n",
    "\n",
    "device = torch.device(\"cuda:0\" if torch.cuda.is_available() else \"cpu\")"
   ]
  },
  {
   "cell_type": "markdown",
   "metadata": {
    "id": "fVKc8Zoj121s"
   },
   "source": [
    "Visualize a few images\n",
    "^^^^^^^^^^^^^^^^^^^^^^\n",
    "Let's visualize a few training images so as to understand the data\n",
    "augmentations.\n",
    "\n"
   ]
  },
  {
   "cell_type": "code",
   "execution_count": null,
   "metadata": {
    "colab": {
     "base_uri": "https://localhost:8080/"
    },
    "id": "DksG0iazklS8",
    "outputId": "323565e3-9e67-4c59-de8a-dab6b2ffa34f"
   },
   "outputs": [],
   "source": [
    "print(device)"
   ]
  },
  {
   "cell_type": "code",
   "execution_count": null,
   "metadata": {
    "id": "oi2XGwRJRRm8"
   },
   "outputs": [],
   "source": [
    "import warnings\n",
    "warnings.filterwarnings(\"ignore\") "
   ]
  },
  {
   "cell_type": "code",
   "execution_count": null,
   "metadata": {
    "colab": {
     "base_uri": "https://localhost:8080/",
     "height": 148
    },
    "id": "zdN_bHEt121s",
    "outputId": "b1a596e0-3bda-477a-a135-2c30b1f6d2b6"
   },
   "outputs": [],
   "source": [
    "def imshow(inp, title=None):\n",
    "    \"\"\"Imshow for Tensor.\"\"\"\n",
    "    inp = inp.numpy().transpose((1, 2, 0))\n",
    "    mean = np.array([0.485, 0.456, 0.406])\n",
    "    std = np.array([0.229, 0.224, 0.225])\n",
    "    inp = std * inp + mean\n",
    "    inp = np.clip(inp, 0, 1)\n",
    "    plt.imshow(inp)\n",
    "    if title is not None:\n",
    "        plt.title(title)\n",
    "    plt.pause(0.001)  # pause a bit so that plots are updated\n",
    "\n",
    "\n",
    "# Get a batch of training data\n",
    "inputs, classes = next(iter(dataloaders['train']))\n",
    "\n",
    "# Make a grid from batch\n",
    "out = torchvision.utils.make_grid(inputs)\n",
    "\n",
    "imshow(out, title=[class_names[x] for x in classes])"
   ]
  },
  {
   "cell_type": "markdown",
   "metadata": {
    "id": "zagKDhG9121t"
   },
   "source": [
    "Training the model\n",
    "------------------\n",
    "\n",
    "Now, let's write a general function to train a model. Here, we will\n",
    "illustrate:\n",
    "\n",
    "-  Scheduling the learning rate\n",
    "-  Saving the best model\n",
    "\n",
    "In the following, parameter ``scheduler`` is an LR scheduler object from\n",
    "``torch.optim.lr_scheduler``.\n",
    "\n"
   ]
  },
  {
   "cell_type": "code",
   "execution_count": null,
   "metadata": {
    "id": "eJMoYZpg121t"
   },
   "outputs": [],
   "source": [
    "def train_model(model, criterion, optimizer, scheduler, num_epochs=25):\n",
    "    since = time.time()\n",
    "\n",
    "    best_model_wts = copy.deepcopy(model.state_dict())\n",
    "    best_acc = 0.0\n",
    "\n",
    "    for epoch in range(num_epochs):\n",
    "      \n",
    "            \n",
    "        print('Epoch {}/{} LR {:.6f}'.format(epoch, num_epochs - 1, scheduler.get_last_lr()[0]))\n",
    "        print('-' * 10)\n",
    "\n",
    "        # Each epoch has a training and validation phase\n",
    "        for phase in ['train', 'val']:\n",
    "            if phase == 'train':\n",
    "                model.train()  # Set model to training mode\n",
    "            else:\n",
    "                model.eval()   # Set model to evaluate mode\n",
    "\n",
    "            running_loss = 0.0\n",
    "            running_corrects = 0\n",
    "\n",
    "            # Iterate over data.\n",
    "            for inputs, labels in dataloaders[phase]:\n",
    "                inputs = inputs.to(device)\n",
    "                labels = labels.to(device)\n",
    "\n",
    "                # zero the parameter gradients\n",
    "                optimizer.zero_grad()\n",
    "\n",
    "                # forward\n",
    "                # track history if only in train\n",
    "                with torch.set_grad_enabled(phase == 'train'):\n",
    "                    outputs = model(inputs)\n",
    "                    _, preds = torch.max(outputs, 1)\n",
    "                    loss = criterion(outputs, labels)\n",
    "\n",
    "                    # backward + optimize only if in training phase\n",
    "                    if phase == 'train':\n",
    "                        loss.backward()\n",
    "                        optimizer.step()\n",
    "\n",
    "                # statistics\n",
    "                running_loss += loss.item() * inputs.size(0)\n",
    "                running_corrects += torch.sum(preds == labels.data)\n",
    "            if phase == 'train':\n",
    "                scheduler.step()\n",
    "\n",
    "            epoch_loss = running_loss / dataset_sizes[phase]\n",
    "            epoch_acc = running_corrects.double() / dataset_sizes[phase]\n",
    "            print('{} Loss: {:.4f} Acc: {:.4f}'.format(\n",
    "                phase, epoch_loss, epoch_acc))\n",
    "\n",
    "            # deep copy the model\n",
    "            if phase == 'val' and epoch_acc > best_acc:\n",
    "                best_acc = epoch_acc\n",
    "                best_model_wts = copy.deepcopy(model.state_dict())\n",
    "\n",
    "        print()\n",
    "\n",
    "    time_elapsed = time.time() - since\n",
    "    print('Training complete in {:.0f}m {:.0f}s'.format(\n",
    "        time_elapsed // 60, time_elapsed % 60))\n",
    "    print('Best val Acc: {:4f}'.format(best_acc))\n",
    "\n",
    "    # load best model weights\n",
    "    model.load_state_dict(best_model_wts)\n",
    "    return model"
   ]
  },
  {
   "cell_type": "markdown",
   "metadata": {
    "id": "OEP0opyl121u"
   },
   "source": [
    "Visualizing the model predictions\n",
    "^^^^^^^^^^^^^^^^^^^^^^^^^^^^^^^^^\n",
    "\n",
    "Generic function to display predictions for a few images\n",
    "\n",
    "\n"
   ]
  },
  {
   "cell_type": "code",
   "execution_count": null,
   "metadata": {
    "id": "TbjI5jij121u"
   },
   "outputs": [],
   "source": [
    "def visualize_model(model, num_images=6):\n",
    "    was_training = model.training\n",
    "    model.eval()\n",
    "    images_so_far = 0\n",
    "\n",
    "    with torch.no_grad():\n",
    "        for i, (inputs, labels) in enumerate(dataloaders['val']):\n",
    "            inputs = inputs.to(device)\n",
    "            labels = labels.to(device)\n",
    "\n",
    "            outputs = model(inputs)\n",
    "            _, preds = torch.max(outputs, 1)\n",
    "\n",
    "            for j in range(inputs.size()[0]):\n",
    "                fig = plt.figure(figsize=(10,10))\n",
    "                images_so_far += 1\n",
    "                ax = plt.subplot(num_images//2, 2, images_so_far)\n",
    "                ax.axis('off')\n",
    "                ax.set_title('predicted: {}'.format(class_names[preds[j]]))\n",
    "                imshow(inputs.cpu().data[j])\n",
    "\n",
    "                if images_so_far == num_images:\n",
    "                    model.train(mode=was_training)\n",
    "                    return\n",
    "        model.train(mode=was_training)"
   ]
  },
  {
   "cell_type": "markdown",
   "metadata": {
    "id": "C9d8pk02YSGk"
   },
   "source": [
    "# Model overview: **ResNet18**"
   ]
  },
  {
   "cell_type": "markdown",
   "metadata": {
    "id": "CR0bRTxQN5zV"
   },
   "source": [
    "**ResNet18 Architecture**"
   ]
  },
  {
   "cell_type": "markdown",
   "metadata": {
    "id": "m9bvbRLxNO-w"
   },
   "source": [
    "![3-Figure3-1.png](data:image/png;base64,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)"
   ]
  },
  {
   "cell_type": "code",
   "execution_count": null,
   "metadata": {
    "colab": {
     "base_uri": "https://localhost:8080/"
    },
    "id": "PCsamvF6NKZ8",
    "outputId": "1f15688e-0505-4a8f-871c-f9423c226bcd"
   },
   "outputs": [],
   "source": [
    "model = models.resnet18()\n",
    "model"
   ]
  },
  {
   "cell_type": "markdown",
   "metadata": {
    "id": "xQtQQcIduqZr"
   },
   "source": [
    "# Train the ConvNet from scratch"
   ]
  },
  {
   "cell_type": "markdown",
   "metadata": {
    "id": "a7n0ygluppDq"
   },
   "source": [
    "Everything from scratch - convolutional and fully connected"
   ]
  },
  {
   "cell_type": "code",
   "execution_count": null,
   "metadata": {
    "id": "fLKowmsHIP7z"
   },
   "outputs": [],
   "source": [
    "model = models.resnet18()\n",
    "numrs = model.fc.in_features\n",
    "# Here the size of each output sample is set to 2.\n",
    "# Alternatively, it can be generalized to nn.Linear(num_ftrs, len(class_names)).\n",
    "model.fc = nn.Linear(numrs, 2)\n",
    "\n",
    "model = model.to(device)\n",
    "\n",
    "criterion = nn.CrossEntropyLoss()\n",
    "\n",
    "# Observe that all parameters are being optimized\n",
    "optimizer = optim.Adam(model.parameters(), lr=0.0001)\n",
    "\n",
    "# Decay LR by a factor of 0.1 every 7 epochs\n",
    "exp_lr_scheduler = lr_scheduler.StepLR(optimizer, step_size=7, gamma=0.1)"
   ]
  },
  {
   "cell_type": "code",
   "execution_count": null,
   "metadata": {
    "colab": {
     "base_uri": "https://localhost:8080/"
    },
    "id": "7WEDu3jgIZD9",
    "outputId": "3cc8105d-d24f-4bcf-8ccc-d5d2d2e096cf"
   },
   "outputs": [],
   "source": [
    "model = train_model(model, criterion, optimizer, exp_lr_scheduler,\n",
    "                       num_epochs=25)"
   ]
  },
  {
   "cell_type": "markdown",
   "metadata": {
    "id": "nlczhfVj121v"
   },
   "source": [
    "# Finetuning the ConvNet\n",
    "\n",
    "\n"
   ]
  },
  {
   "cell_type": "markdown",
   "metadata": {
    "id": "qheOXnqru2nQ"
   },
   "source": [
    "Load a pretrained model and reset final fully connected layer.\n",
    "we're training the whole network again WITH pretrained weights - Convolution and Fully Connected"
   ]
  },
  {
   "cell_type": "code",
   "execution_count": null,
   "metadata": {
    "colab": {
     "base_uri": "https://localhost:8080/",
     "height": 66,
     "referenced_widgets": [
      "0734e25341024b69945396a718838b2d",
      "a1a3da8c34534f129d70eee83086f643",
      "b5ea97d761f840e9a54fcc1b850e3380",
      "5e5ce0dd20b9435eabcf43f7736c66d4",
      "f53778f378bb4c4a8bfb115315390348",
      "21fd1a3e2be0417bbcdd9cd884a92ba4",
      "4a2a3c9bc5d841d889b93064836568f0",
      "8555e5baa225454198cabffd196ede5c",
      "c4da7e9c5d29491d8df12a320c269c81",
      "55951739afd84f2bb58823cbc8873ccc",
      "35a1b4c7889443f48c87b37928754fcf"
     ]
    },
    "id": "xYUbsSd3121v",
    "outputId": "f21d379b-d04f-4986-eae4-90f6827292d5"
   },
   "outputs": [],
   "source": [
    "model_ft = models.resnet18(pretrained=True)\n",
    "num_ftrs = model_ft.fc.in_features\n",
    "# Here the size of each output sample is set to 2.\n",
    "# Alternatively, it can be generalized to nn.Linear(num_ftrs, len(class_names)).\n",
    "model_ft.fc = nn.Linear(num_ftrs, 2)\n",
    "\n",
    "model_ft = model_ft.to(device)\n",
    "\n",
    "criterion = nn.CrossEntropyLoss() # BinaryCrossEntropyLoss?\n",
    "\n",
    "# Observe that all parameters are being optimized\n",
    "optimizer_ft = optim.SGD(model_ft.parameters(), lr=0.001, momentum=0.9)\n",
    "\n",
    "# Decay LR by a factor of 0.1 every 7 epochs\n",
    "exp_lr_scheduler = lr_scheduler.StepLR(optimizer_ft, step_size=7, gamma=0.1)"
   ]
  },
  {
   "cell_type": "markdown",
   "metadata": {
    "id": "LrRPtGqU121v"
   },
   "source": [
    "Train and evaluate\n",
    "\n",
    "It should take around 15-25 min on CPU. On GPU though, it takes less than a\n",
    "minute.\n",
    "\n",
    "\n"
   ]
  },
  {
   "cell_type": "code",
   "execution_count": null,
   "metadata": {
    "colab": {
     "base_uri": "https://localhost:8080/"
    },
    "id": "o3ZG_FB-121w",
    "outputId": "58b18493-c76f-453a-dbc1-756cf2e6250b"
   },
   "outputs": [],
   "source": [
    "model_ft = train_model(model_ft, criterion, optimizer_ft, exp_lr_scheduler,\n",
    "                       num_epochs=25)"
   ]
  },
  {
   "cell_type": "code",
   "execution_count": null,
   "metadata": {
    "colab": {
     "base_uri": "https://localhost:8080/",
     "height": 1000
    },
    "id": "Pbb0s9Ji121w",
    "outputId": "ae576f02-75b0-4219-eff5-3646220218b0"
   },
   "outputs": [],
   "source": [
    "visualize_model(model_ft)"
   ]
  },
  {
   "cell_type": "markdown",
   "metadata": {
    "id": "h8lR0zCm121w"
   },
   "source": [
    "# ConvNet as fixed feature extractor - Transfer Learning!\n",
    "\n",
    "\n",
    "\n",
    "\n"
   ]
  },
  {
   "cell_type": "markdown",
   "metadata": {
    "id": "fa1PmVLizJ62"
   },
   "source": [
    "Here, we need to freeze all the network except the final layer. We need\n",
    "to set ``requires_grad == False`` to freeze the parameters so that the\n",
    "gradients are not computed in ``backward()``.\n",
    "\n",
    "You can read more about this in the documentation\n",
    "`here <https://pytorch.org/docs/notes/autograd.html#excluding-subgraphs-from-backward>`__."
   ]
  },
  {
   "cell_type": "code",
   "execution_count": null,
   "metadata": {
    "id": "MVGA0P9Q121w"
   },
   "outputs": [],
   "source": [
    "model_conv = torchvision.models.resnet18(pretrained=True) ## PRETRAINED!!!\n",
    "for param in model_conv.parameters():\n",
    "    param.requires_grad = False\n",
    "\n",
    "# Parameters of newly constructed modules have requires_grad=True by default\n",
    "num_ftrs = model_conv.fc.in_features\n",
    "model_conv.fc = nn.Linear(num_ftrs, 2)\n",
    "\n",
    "model_conv = model_conv.to(device)\n",
    "\n",
    "criterion = nn.CrossEntropyLoss()\n",
    "\n",
    "# Observe that only parameters of final layer are being optimized as\n",
    "# opposed to before.\n",
    "optimizer_conv = optim.SGD(model_conv.fc.parameters(), lr=0.001, momentum=0.9)\n",
    "\n",
    "# Decay LR by a factor of 0.1 every 7 epochs\n",
    "exp_lr_scheduler = lr_scheduler.StepLR(optimizer_conv, step_size=7, gamma=0.1)"
   ]
  },
  {
   "cell_type": "markdown",
   "metadata": {
    "id": "Q_DUigk3121w"
   },
   "source": [
    "Train and evaluate\n",
    "^^^^^^^^^^^^^^^^^^\n",
    "\n",
    "On CPU this will take about half the time compared to previous scenario.\n",
    "This is expected as gradients don't need to be computed for most of the\n",
    "network. However, forward does need to be computed.\n",
    "\n",
    "\n"
   ]
  },
  {
   "cell_type": "code",
   "execution_count": null,
   "metadata": {
    "colab": {
     "base_uri": "https://localhost:8080/"
    },
    "id": "49tHrHCe121x",
    "outputId": "166b3729-bca0-4c7c-dea8-fe14b717b4ce"
   },
   "outputs": [],
   "source": [
    "model_conv = train_model(model_conv, criterion, optimizer_conv,\n",
    "                         exp_lr_scheduler, num_epochs=25)"
   ]
  },
  {
   "cell_type": "code",
   "execution_count": null,
   "metadata": {
    "colab": {
     "base_uri": "https://localhost:8080/",
     "height": 1000
    },
    "id": "jUbQWSLR121x",
    "outputId": "93be159b-2439-4adc-8451-c6e443fae965"
   },
   "outputs": [],
   "source": [
    "visualize_model(model_conv)\n",
    "\n",
    "plt.ioff()\n",
    "plt.show()"
   ]
  },
  {
   "cell_type": "markdown",
   "metadata": {
    "id": "I-AaX1CX4727"
   },
   "source": [
    "# Then finetuning the entire network\n"
   ]
  },
  {
   "cell_type": "code",
   "execution_count": null,
   "metadata": {
    "id": "hVyY0rufBQoa"
   },
   "outputs": [],
   "source": [
    "#model_conv = torchvision.models.resnet18(pretrained=True)\n",
    "for param in model_conv.parameters():\n",
    "    param.requires_grad = True\n",
    "\n",
    "\n",
    "# Observe that only parameters of final layer are being optimized as\n",
    "# opposed to before.\n",
    "optimizer_conv_2 = optim.SGD(model_conv.fc.parameters(), lr=0.00001, momentum=0.9)\n",
    "\n",
    "# Decay LR by a factor of 0.1 every 7 epochs\n",
    "exp_lr_scheduler_2 = lr_scheduler.StepLR(optimizer_conv_2, step_size=7, gamma=0.1)"
   ]
  },
  {
   "cell_type": "code",
   "execution_count": null,
   "metadata": {
    "colab": {
     "base_uri": "https://localhost:8080/"
    },
    "id": "9N-_7hNDBQrS",
    "outputId": "6c849f3a-3147-4b1c-c8b7-7ff4dcf5b832"
   },
   "outputs": [],
   "source": [
    "model_conv = train_model(model_conv, criterion, optimizer_conv_2,\n",
    "                         exp_lr_scheduler_2, num_epochs=20)"
   ]
  },
  {
   "cell_type": "code",
   "execution_count": null,
   "metadata": {
    "colab": {
     "base_uri": "https://localhost:8080/",
     "height": 1000
    },
    "id": "TRa0O4E3UHaR",
    "outputId": "735b787b-ae86-47e8-ae47-cfa23038bc85"
   },
   "outputs": [],
   "source": [
    "visualize_model(model_conv)\n",
    "\n",
    "plt.ioff()\n",
    "plt.show()"
   ]
  }
 ],
 "metadata": {
  "accelerator": "GPU",
  "colab": {
   "collapsed_sections": [],
   "name": "Lab4 - Deep Learning Developments - Transfer_learning.ipynb",
   "provenance": []
  },
  "kernelspec": {
   "display_name": "Python 3 (ipykernel)",
   "language": "python",
   "name": "python3"
  },
  "language_info": {
   "codemirror_mode": {
    "name": "ipython",
    "version": 3
   },
   "file_extension": ".py",
   "mimetype": "text/x-python",
   "name": "python",
   "nbconvert_exporter": "python",
   "pygments_lexer": "ipython3",
   "version": "3.10.7"
  },
  "widgets": {
   "application/vnd.jupyter.widget-state+json": {
    "0734e25341024b69945396a718838b2d": {
     "model_module": "@jupyter-widgets/controls",
     "model_module_version": "1.5.0",
     "model_name": "HBoxModel",
     "state": {
      "_dom_classes": [],
      "_model_module": "@jupyter-widgets/controls",
      "_model_module_version": "1.5.0",
      "_model_name": "HBoxModel",
      "_view_count": null,
      "_view_module": "@jupyter-widgets/controls",
      "_view_module_version": "1.5.0",
      "_view_name": "HBoxView",
      "box_style": "",
      "children": [
       "IPY_MODEL_b5ea97d761f840e9a54fcc1b850e3380",
       "IPY_MODEL_5e5ce0dd20b9435eabcf43f7736c66d4",
       "IPY_MODEL_f53778f378bb4c4a8bfb115315390348"
      ],
      "layout": "IPY_MODEL_a1a3da8c34534f129d70eee83086f643"
     }
    },
    "21fd1a3e2be0417bbcdd9cd884a92ba4": {
     "model_module": "@jupyter-widgets/controls",
     "model_module_version": "1.5.0",
     "model_name": "DescriptionStyleModel",
     "state": {
      "_model_module": "@jupyter-widgets/controls",
      "_model_module_version": "1.5.0",
      "_model_name": "DescriptionStyleModel",
      "_view_count": null,
      "_view_module": "@jupyter-widgets/base",
      "_view_module_version": "1.2.0",
      "_view_name": "StyleView",
      "description_width": ""
     }
    },
    "35a1b4c7889443f48c87b37928754fcf": {
     "model_module": "@jupyter-widgets/base",
     "model_module_version": "1.2.0",
     "model_name": "LayoutModel",
     "state": {
      "_model_module": "@jupyter-widgets/base",
      "_model_module_version": "1.2.0",
      "_model_name": "LayoutModel",
      "_view_count": null,
      "_view_module": "@jupyter-widgets/base",
      "_view_module_version": "1.2.0",
      "_view_name": "LayoutView",
      "align_content": null,
      "align_items": null,
      "align_self": null,
      "border": null,
      "bottom": null,
      "display": null,
      "flex": null,
      "flex_flow": null,
      "grid_area": null,
      "grid_auto_columns": null,
      "grid_auto_flow": null,
      "grid_auto_rows": null,
      "grid_column": null,
      "grid_gap": null,
      "grid_row": null,
      "grid_template_areas": null,
      "grid_template_columns": null,
      "grid_template_rows": null,
      "height": null,
      "justify_content": null,
      "justify_items": null,
      "left": null,
      "margin": null,
      "max_height": null,
      "max_width": null,
      "min_height": null,
      "min_width": null,
      "object_fit": null,
      "object_position": null,
      "order": null,
      "overflow": null,
      "overflow_x": null,
      "overflow_y": null,
      "padding": null,
      "right": null,
      "top": null,
      "visibility": null,
      "width": null
     }
    },
    "4a2a3c9bc5d841d889b93064836568f0": {
     "model_module": "@jupyter-widgets/base",
     "model_module_version": "1.2.0",
     "model_name": "LayoutModel",
     "state": {
      "_model_module": "@jupyter-widgets/base",
      "_model_module_version": "1.2.0",
      "_model_name": "LayoutModel",
      "_view_count": null,
      "_view_module": "@jupyter-widgets/base",
      "_view_module_version": "1.2.0",
      "_view_name": "LayoutView",
      "align_content": null,
      "align_items": null,
      "align_self": null,
      "border": null,
      "bottom": null,
      "display": null,
      "flex": null,
      "flex_flow": null,
      "grid_area": null,
      "grid_auto_columns": null,
      "grid_auto_flow": null,
      "grid_auto_rows": null,
      "grid_column": null,
      "grid_gap": null,
      "grid_row": null,
      "grid_template_areas": null,
      "grid_template_columns": null,
      "grid_template_rows": null,
      "height": null,
      "justify_content": null,
      "justify_items": null,
      "left": null,
      "margin": null,
      "max_height": null,
      "max_width": null,
      "min_height": null,
      "min_width": null,
      "object_fit": null,
      "object_position": null,
      "order": null,
      "overflow": null,
      "overflow_x": null,
      "overflow_y": null,
      "padding": null,
      "right": null,
      "top": null,
      "visibility": null,
      "width": null
     }
    },
    "55951739afd84f2bb58823cbc8873ccc": {
     "model_module": "@jupyter-widgets/controls",
     "model_module_version": "1.5.0",
     "model_name": "DescriptionStyleModel",
     "state": {
      "_model_module": "@jupyter-widgets/controls",
      "_model_module_version": "1.5.0",
      "_model_name": "DescriptionStyleModel",
      "_view_count": null,
      "_view_module": "@jupyter-widgets/base",
      "_view_module_version": "1.2.0",
      "_view_name": "StyleView",
      "description_width": ""
     }
    },
    "5e5ce0dd20b9435eabcf43f7736c66d4": {
     "model_module": "@jupyter-widgets/controls",
     "model_module_version": "1.5.0",
     "model_name": "FloatProgressModel",
     "state": {
      "_dom_classes": [],
      "_model_module": "@jupyter-widgets/controls",
      "_model_module_version": "1.5.0",
      "_model_name": "FloatProgressModel",
      "_view_count": null,
      "_view_module": "@jupyter-widgets/controls",
      "_view_module_version": "1.5.0",
      "_view_name": "ProgressView",
      "bar_style": "success",
      "description": "",
      "description_tooltip": null,
      "layout": "IPY_MODEL_c4da7e9c5d29491d8df12a320c269c81",
      "max": 46830571,
      "min": 0,
      "orientation": "horizontal",
      "style": "IPY_MODEL_8555e5baa225454198cabffd196ede5c",
      "value": 46830571
     }
    },
    "8555e5baa225454198cabffd196ede5c": {
     "model_module": "@jupyter-widgets/controls",
     "model_module_version": "1.5.0",
     "model_name": "ProgressStyleModel",
     "state": {
      "_model_module": "@jupyter-widgets/controls",
      "_model_module_version": "1.5.0",
      "_model_name": "ProgressStyleModel",
      "_view_count": null,
      "_view_module": "@jupyter-widgets/base",
      "_view_module_version": "1.2.0",
      "_view_name": "StyleView",
      "bar_color": null,
      "description_width": ""
     }
    },
    "a1a3da8c34534f129d70eee83086f643": {
     "model_module": "@jupyter-widgets/base",
     "model_module_version": "1.2.0",
     "model_name": "LayoutModel",
     "state": {
      "_model_module": "@jupyter-widgets/base",
      "_model_module_version": "1.2.0",
      "_model_name": "LayoutModel",
      "_view_count": null,
      "_view_module": "@jupyter-widgets/base",
      "_view_module_version": "1.2.0",
      "_view_name": "LayoutView",
      "align_content": null,
      "align_items": null,
      "align_self": null,
      "border": null,
      "bottom": null,
      "display": null,
      "flex": null,
      "flex_flow": null,
      "grid_area": null,
      "grid_auto_columns": null,
      "grid_auto_flow": null,
      "grid_auto_rows": null,
      "grid_column": null,
      "grid_gap": null,
      "grid_row": null,
      "grid_template_areas": null,
      "grid_template_columns": null,
      "grid_template_rows": null,
      "height": null,
      "justify_content": null,
      "justify_items": null,
      "left": null,
      "margin": null,
      "max_height": null,
      "max_width": null,
      "min_height": null,
      "min_width": null,
      "object_fit": null,
      "object_position": null,
      "order": null,
      "overflow": null,
      "overflow_x": null,
      "overflow_y": null,
      "padding": null,
      "right": null,
      "top": null,
      "visibility": null,
      "width": null
     }
    },
    "b5ea97d761f840e9a54fcc1b850e3380": {
     "model_module": "@jupyter-widgets/controls",
     "model_module_version": "1.5.0",
     "model_name": "HTMLModel",
     "state": {
      "_dom_classes": [],
      "_model_module": "@jupyter-widgets/controls",
      "_model_module_version": "1.5.0",
      "_model_name": "HTMLModel",
      "_view_count": null,
      "_view_module": "@jupyter-widgets/controls",
      "_view_module_version": "1.5.0",
      "_view_name": "HTMLView",
      "description": "",
      "description_tooltip": null,
      "layout": "IPY_MODEL_4a2a3c9bc5d841d889b93064836568f0",
      "placeholder": "​",
      "style": "IPY_MODEL_21fd1a3e2be0417bbcdd9cd884a92ba4",
      "value": "100%"
     }
    },
    "c4da7e9c5d29491d8df12a320c269c81": {
     "model_module": "@jupyter-widgets/base",
     "model_module_version": "1.2.0",
     "model_name": "LayoutModel",
     "state": {
      "_model_module": "@jupyter-widgets/base",
      "_model_module_version": "1.2.0",
      "_model_name": "LayoutModel",
      "_view_count": null,
      "_view_module": "@jupyter-widgets/base",
      "_view_module_version": "1.2.0",
      "_view_name": "LayoutView",
      "align_content": null,
      "align_items": null,
      "align_self": null,
      "border": null,
      "bottom": null,
      "display": null,
      "flex": null,
      "flex_flow": null,
      "grid_area": null,
      "grid_auto_columns": null,
      "grid_auto_flow": null,
      "grid_auto_rows": null,
      "grid_column": null,
      "grid_gap": null,
      "grid_row": null,
      "grid_template_areas": null,
      "grid_template_columns": null,
      "grid_template_rows": null,
      "height": null,
      "justify_content": null,
      "justify_items": null,
      "left": null,
      "margin": null,
      "max_height": null,
      "max_width": null,
      "min_height": null,
      "min_width": null,
      "object_fit": null,
      "object_position": null,
      "order": null,
      "overflow": null,
      "overflow_x": null,
      "overflow_y": null,
      "padding": null,
      "right": null,
      "top": null,
      "visibility": null,
      "width": null
     }
    },
    "f53778f378bb4c4a8bfb115315390348": {
     "model_module": "@jupyter-widgets/controls",
     "model_module_version": "1.5.0",
     "model_name": "HTMLModel",
     "state": {
      "_dom_classes": [],
      "_model_module": "@jupyter-widgets/controls",
      "_model_module_version": "1.5.0",
      "_model_name": "HTMLModel",
      "_view_count": null,
      "_view_module": "@jupyter-widgets/controls",
      "_view_module_version": "1.5.0",
      "_view_name": "HTMLView",
      "description": "",
      "description_tooltip": null,
      "layout": "IPY_MODEL_35a1b4c7889443f48c87b37928754fcf",
      "placeholder": "​",
      "style": "IPY_MODEL_55951739afd84f2bb58823cbc8873ccc",
      "value": " 44.7M/44.7M [00:00&lt;00:00, 58.7MB/s]"
     }
    }
   }
  }
 },
 "nbformat": 4,
 "nbformat_minor": 1
}
