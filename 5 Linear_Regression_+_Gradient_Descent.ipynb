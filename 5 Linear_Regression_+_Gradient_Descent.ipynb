{
 "cells": [
  {
   "cell_type": "markdown",
   "metadata": {
    "id": "yXIpTx_zTPNS"
   },
   "source": [
    "# 0. Import packages"
   ]
  },
  {
   "cell_type": "code",
   "execution_count": 1,
   "metadata": {
    "id": "imZx3tIAQTKa"
   },
   "outputs": [],
   "source": [
    "import numpy as np #for vectorized numerical calculations\n",
    "import pandas as pd #for data handling\n",
    "import seaborn as sns #for data visualization \n",
    "import matplotlib.pyplot as plt #for data visualization\n",
    "from sklearn import metrics #for metrics to evaluate the models\n",
    "import torch #for tensor, gradient and neural network calculations"
   ]
  },
  {
   "cell_type": "markdown",
   "metadata": {
    "id": "OG7H63IsTuwG"
   },
   "source": [
    "# 1. Get Data"
   ]
  },
  {
   "cell_type": "code",
   "execution_count": 2,
   "metadata": {
    "colab": {
     "base_uri": "https://localhost:8080/"
    },
    "id": "L2mJ7Eg_TkiJ",
    "outputId": "cb2bf6d0-a769-43a4-8965-35d235041ca5"
   },
   "outputs": [
    {
     "name": "stderr",
     "output_type": "stream",
     "text": [
      "C:\\Users\\Lugas\\AppData\\Local\\Programs\\Python\\Python310\\lib\\site-packages\\gdown\\cli.py:121: FutureWarning: Option `--id` was deprecated in version 4.3.1 and will be removed in 5.0. You don't need to pass it anymore to use a file ID.\n",
      "  warnings.warn(\n",
      "Downloading...\n",
      "From: https://drive.google.com/uc?id=1XFffn1YC91wvoDvnYjs3NIRSFF5zFPiK\n",
      "To: D:\\Praktisi Mengajar\\3 Universitas Muhammadiyah Semarang\\1 Courses\\Life Expectancy Data.csv\n",
      "\n",
      "  0%|          | 0.00/333k [00:00<?, ?B/s]\n",
      "100%|##########| 333k/333k [00:00<00:00, 787kB/s]\n",
      "100%|##########| 333k/333k [00:00<00:00, 787kB/s]\n"
     ]
    }
   ],
   "source": [
    "#available at my drive (link is public) --> https://drive.google.com/file/d/1XFffn1YC91wvoDvnYjs3NIRSFF5zFPiK/view?usp=sharing\n",
    "!gdown --id 1XFffn1YC91wvoDvnYjs3NIRSFF5zFPiK"
   ]
  },
  {
   "cell_type": "markdown",
   "metadata": {
    "id": "JqJgoR1HT_C2"
   },
   "source": [
    "Read Data"
   ]
  },
  {
   "cell_type": "code",
   "execution_count": null,
   "metadata": {
    "id": "AQsI-pedT6gx"
   },
   "outputs": [],
   "source": [
    "life_exp = pd.read_csv('Life Expectancy Data.csv')"
   ]
  },
  {
   "cell_type": "markdown",
   "metadata": {
    "id": "eWZewlb0UJPd"
   },
   "source": [
    "Explore Data"
   ]
  },
  {
   "cell_type": "code",
   "execution_count": null,
   "metadata": {
    "colab": {
     "base_uri": "https://localhost:8080/"
    },
    "id": "z4WNzs_rUCdf",
    "outputId": "cf980c2b-3183-471a-e3d7-ba241514b6b5"
   },
   "outputs": [],
   "source": [
    "life_exp.shape"
   ]
  },
  {
   "cell_type": "code",
   "execution_count": null,
   "metadata": {
    "colab": {
     "base_uri": "https://localhost:8080/",
     "height": 285
    },
    "id": "azhgUoCCUPUc",
    "outputId": "6aabc60e-5fcd-4c30-cd02-2d0960d13a98"
   },
   "outputs": [],
   "source": [
    "life_exp.head() #shows first 5 elements"
   ]
  },
  {
   "cell_type": "code",
   "execution_count": null,
   "metadata": {
    "colab": {
     "base_uri": "https://localhost:8080/"
    },
    "id": "TPaxlMQmUVLP",
    "outputId": "c23f04d4-bb34-4d6d-abe8-e0e788c4becb"
   },
   "outputs": [],
   "source": [
    "life_exp.info() #gives information about the fields"
   ]
  },
  {
   "cell_type": "code",
   "execution_count": null,
   "metadata": {
    "colab": {
     "base_uri": "https://localhost:8080/",
     "height": 416
    },
    "id": "OBbHLvDeUgmG",
    "outputId": "112c7b86-ff7e-444a-c1b4-6aa51db36b92"
   },
   "outputs": [],
   "source": [
    "life_exp.describe()"
   ]
  },
  {
   "cell_type": "code",
   "execution_count": null,
   "metadata": {
    "colab": {
     "base_uri": "https://localhost:8080/",
     "height": 788
    },
    "id": "jJAd_dQDUjmc",
    "outputId": "9856bed3-926b-4bac-c1ff-b3624066226c"
   },
   "outputs": [],
   "source": [
    "sns.set(rc = {'figure.figsize':(15,10)})\n",
    "sns.heatmap(life_exp.corr(), annot=True, cmap=\"coolwarm\") #visualizing the correlation between the variables (how do they influence each other)"
   ]
  },
  {
   "cell_type": "markdown",
   "metadata": {
    "id": "NBR3SiHMcLxp"
   },
   "source": [
    "Handling data"
   ]
  },
  {
   "cell_type": "code",
   "execution_count": null,
   "metadata": {
    "id": "otwMZLrDcR1k"
   },
   "outputs": [],
   "source": [
    "#Change column names for conveniency \n",
    "life_exp.rename(columns = {\" BMI \" :\"BMI\",\n",
    "  \"Life expectancy \": \"Life_expectancy\",\n",
    "  \"Adult Mortality\":\"Adult_mortality\",\n",
    "  \"infant deaths\":\"Infant_deaths\",\n",
    "  \"percentage expenditure\":\"Percentage_expenditure\",\n",
    "  \"Hepatitis B\":\"HepatitisB\",\n",
    "  \"Measles \":\"Measles\",\n",
    "  \"under-five deaths \": \"Under_five_deaths\",\n",
    "  \"Total expenditure\":\"Total_expenditure\",\n",
    "  \"Diphtheria \": \"Diphtheria\",\n",
    "  \" thinness 1–19 years\":\"Thinness_1–19_years\",\n",
    "  \" thinness 5–9 years\":\"Thinness_5–9_years\",\n",
    "  \" HIV/AIDS\":\"HIV/AIDS\",\n",
    "  \"Income composition of resources\":\n",
    "  \"Income_composition_of_resources\"}, inplace = True)"
   ]
  },
  {
   "cell_type": "code",
   "execution_count": null,
   "metadata": {
    "id": "ImI7_hNebhJ5"
   },
   "outputs": [],
   "source": [
    "X = life_exp.drop([\"Status\",\"Country\",\"Life_expectancy\"], axis=1)\n",
    "Y = life_exp[\"Life_expectancy\"]"
   ]
  },
  {
   "cell_type": "code",
   "execution_count": null,
   "metadata": {
    "colab": {
     "base_uri": "https://localhost:8080/",
     "height": 305
    },
    "id": "ALk-c6WochvD",
    "outputId": "53f9a01d-cf62-460d-b790-959ea4d82039"
   },
   "outputs": [],
   "source": [
    "X.head()"
   ]
  },
  {
   "cell_type": "code",
   "execution_count": null,
   "metadata": {
    "colab": {
     "base_uri": "https://localhost:8080/"
    },
    "id": "g98FtzXccoRy",
    "outputId": "ef51b0b1-c6b3-4ab1-c614-f3b52cd8fa0a"
   },
   "outputs": [],
   "source": [
    "Y.head()"
   ]
  },
  {
   "cell_type": "markdown",
   "metadata": {
    "id": "UWUzUMHYWDHz"
   },
   "source": [
    "Handling missing values"
   ]
  },
  {
   "cell_type": "code",
   "execution_count": null,
   "metadata": {
    "colab": {
     "base_uri": "https://localhost:8080/"
    },
    "id": "rFBP156PU5po",
    "outputId": "fb145864-29ff-4cdc-b718-8e0a210b9f53"
   },
   "outputs": [],
   "source": [
    "X.isnull().sum() #alias for isna -- checks the number of empty, nan, nat, ... elements"
   ]
  },
  {
   "cell_type": "code",
   "execution_count": null,
   "metadata": {
    "id": "YPfAdYltWHoJ"
   },
   "outputs": [],
   "source": [
    "#There are many ways to fill missing values: https://www.geeksforgeeks.org/working-with-missing-data-in-pandas/\n",
    "def fillmissing(df, feature, method):\n",
    "  if method == \"mode\":\n",
    "    df[feature] = df[feature].fillna(df[feature].mode()[0])\n",
    "  elif method == \"median\":\n",
    "    df[feature] = df[feature].fillna(df[feature].median())\n",
    "  else:\n",
    "    df[feature] = df[feature].fillna(df[feature].mean())\n",
    "\n",
    "#We'll use the mean value\n",
    "features_missing = X.columns[X.isna().any()]\n",
    "for feature in features_missing:\n",
    "  fillmissing(X, feature= feature, method= \"mean\")\n",
    "\n",
    "#for Y we'll use the median value\n",
    "Y.fillna(Y.median(), inplace=True)"
   ]
  },
  {
   "cell_type": "code",
   "execution_count": null,
   "metadata": {
    "id": "YES9gvFc6KyA"
   },
   "outputs": [],
   "source": [
    "Y = np.array(Y)"
   ]
  },
  {
   "cell_type": "code",
   "execution_count": null,
   "metadata": {
    "colab": {
     "base_uri": "https://localhost:8080/"
    },
    "id": "1Og7KfJHbEoM",
    "outputId": "84ac3b73-5447-4dee-f338-ab712db55182"
   },
   "outputs": [],
   "source": [
    "X.isnull().sum() #no more missing values"
   ]
  },
  {
   "cell_type": "markdown",
   "metadata": {
    "id": "r6Vg8grDjpU1"
   },
   "source": [
    "#**LINEAR REGRESSION**"
   ]
  },
  {
   "cell_type": "markdown",
   "metadata": {
    "id": "mA2sxHM7dQAp"
   },
   "source": [
    "#**2 . Linear Regression with Tim**"
   ]
  },
  {
   "cell_type": "code",
   "execution_count": null,
   "metadata": {
    "colab": {
     "base_uri": "https://localhost:8080/"
    },
    "id": "2lyscqbHdE1R",
    "outputId": "daf9ce54-9138-4682-ec31-66937926cc50"
   },
   "outputs": [],
   "source": [
    "tim_data = X['BMI']\n",
    "tim_data.head()"
   ]
  },
  {
   "cell_type": "markdown",
   "metadata": {
    "id": "zA8rNSAid2NV"
   },
   "source": [
    "Visualzing Life expectancy vs BMI plot"
   ]
  },
  {
   "cell_type": "code",
   "execution_count": null,
   "metadata": {
    "colab": {
     "base_uri": "https://localhost:8080/",
     "height": 628
    },
    "id": "Xbk0TrpZdngR",
    "outputId": "928d6acb-9c69-4d7b-ad28-f96b79f375ac"
   },
   "outputs": [],
   "source": [
    "fig = plt.figure()\n",
    "ax = fig.add_subplot()\n",
    "\n",
    "ax.scatter(tim_data, Y)\n",
    "\n",
    "ax.set_xlabel('BMI')\n",
    "ax.set_ylabel('Life expectancy')"
   ]
  },
  {
   "cell_type": "markdown",
   "metadata": {
    "id": "x9M1KR9ceKc9"
   },
   "source": [
    "Preprocessing data"
   ]
  },
  {
   "cell_type": "code",
   "execution_count": null,
   "metadata": {
    "colab": {
     "base_uri": "https://localhost:8080/"
    },
    "id": "oEnIlJVkiYUg",
    "outputId": "5d97ec49-766e-45c5-8041-b87cb2202428"
   },
   "outputs": [],
   "source": [
    "#tim_data.values.shape\n",
    "tim_data.values.reshape(-1,1).shape"
   ]
  },
  {
   "cell_type": "code",
   "execution_count": null,
   "metadata": {
    "colab": {
     "base_uri": "https://localhost:8080/"
    },
    "id": "TtqrwW15i_-_",
    "outputId": "a8a01af2-0881-4c10-acaf-fcfa4d9a682c"
   },
   "outputs": [],
   "source": [
    "tim_data.values"
   ]
  },
  {
   "cell_type": "code",
   "execution_count": null,
   "metadata": {
    "colab": {
     "base_uri": "https://localhost:8080/"
    },
    "id": "zcge8CsMiyCX",
    "outputId": "c0206866-40ed-4339-e831-4a1efd5bc5b9"
   },
   "outputs": [],
   "source": [
    "np.ones(len(tim_data)).reshape(-1,1).shape"
   ]
  },
  {
   "cell_type": "code",
   "execution_count": null,
   "metadata": {
    "colab": {
     "base_uri": "https://localhost:8080/"
    },
    "id": "XEe2q768jC0X",
    "outputId": "fc1964ec-4b9b-4971-9d85-1db669803a45"
   },
   "outputs": [],
   "source": [
    "np.ones(len(tim_data)).reshape(-1,1)"
   ]
  },
  {
   "cell_type": "code",
   "execution_count": null,
   "metadata": {
    "colab": {
     "base_uri": "https://localhost:8080/"
    },
    "id": "rzu72uiEd7pL",
    "outputId": "c439b0e0-7d94-48d3-cc38-54aca73b4e0a"
   },
   "outputs": [],
   "source": [
    "def preprocess(X):\n",
    "    data = X.values.reshape(-1,1)\n",
    "    data = np.concatenate((np.ones(len(data)).reshape(-1,1), data), axis=1)\n",
    "    return data\n",
    "\n",
    "tim_data_ready = preprocess(tim_data)\n",
    "tim_data_ready.shape"
   ]
  },
  {
   "cell_type": "code",
   "execution_count": null,
   "metadata": {
    "colab": {
     "base_uri": "https://localhost:8080/"
    },
    "id": "RTFr0HnnjOCo",
    "outputId": "38bb7544-faae-4ef7-b25c-db760127e84f"
   },
   "outputs": [],
   "source": [
    "tim_data_ready"
   ]
  },
  {
   "cell_type": "code",
   "execution_count": null,
   "metadata": {
    "colab": {
     "base_uri": "https://localhost:8080/"
    },
    "id": "N4c9ekdZfHIt",
    "outputId": "25805f6c-c009-491b-f3ab-5142a18fe766"
   },
   "outputs": [],
   "source": [
    "def normal_equation(X,Y):\n",
    "    X = torch.from_numpy(X)\n",
    "    Y = torch.from_numpy(Y)\n",
    "    return torch.matmul( torch.inverse(torch.matmul(X.t(), X)), torch.matmul(X.t(), Y))\n",
    "\n",
    "tim_theta = normal_equation(tim_data_ready, Y)\n",
    "print(f'y = mx + b')\n",
    "print(f'y = {tim_theta[1]}x + {tim_theta[0]}')"
   ]
  },
  {
   "cell_type": "code",
   "execution_count": null,
   "metadata": {
    "colab": {
     "base_uri": "https://localhost:8080/",
     "height": 395
    },
    "id": "4mLspQ3cgaSL",
    "outputId": "5059f3cf-6787-4197-85e4-14b7089e4be2"
   },
   "outputs": [],
   "source": [
    "plt.figure(figsize=(10,6))\n",
    "plt.title('Life expectancy regression using $\\\\theta_0$ = {} , $\\\\theta_1$ = {}'.format(tim_theta[0], tim_theta[1]))\n",
    "plt.scatter(tim_data,Y, marker='o')\n",
    "plt.plot(tim_data,np.dot(tim_data_ready, tim_theta), color='r')\n",
    "plt.show()"
   ]
  },
  {
   "cell_type": "code",
   "execution_count": null,
   "metadata": {
    "colab": {
     "base_uri": "https://localhost:8080/"
    },
    "id": "KWdh0JaLgr1R",
    "outputId": "72ea2c13-d698-42eb-ef09-e2d436803516"
   },
   "outputs": [],
   "source": [
    "def life_expectancy(X, theta):\n",
    "    X = np.concatenate((np.ones(1),np.array(X)),axis=0)\n",
    "    return round(np.dot(X, theta),1)\n",
    "\n",
    "height = 1.82 #float(input(\"Please input your height (in meters): \")) #1.82\n",
    "weight = 80 #float(input(\"Please input your weight (in kilograms): \")) #80\n",
    "bmi = weight / height**2\n",
    "print(\"BMI:\",bmi)\n",
    "life_exp_tim = life_expectancy([bmi], tim_theta)\n",
    "print(\"Tim's life expectancy is\", life_exp_tim , \"years.\")"
   ]
  },
  {
   "cell_type": "code",
   "execution_count": null,
   "metadata": {
    "colab": {
     "base_uri": "https://localhost:8080/"
    },
    "id": "-IbyMB90oYd_",
    "outputId": "cc004002-62fe-4939-fbf1-15c16a70ba9e"
   },
   "outputs": [],
   "source": [
    "height = 1.80 #float(input(\"Please input your height (in meters): \")) #1.82\n",
    "weight = 73 #float(input(\"Please input your weight (in kilograms): \")) #80\n",
    "bmi = weight / height**2\n",
    "print(\"BMI:\",bmi)\n",
    "life_exp_tim_tom = life_expectancy([bmi], tim_theta)\n",
    "print(\"Tom's life expectancy predicted by Tim's model is\", life_exp_tim_tom , \"years.\")"
   ]
  },
  {
   "cell_type": "markdown",
   "metadata": {
    "id": "K2pa9LtziFXh"
   },
   "source": [
    "#**3.Linear Regression with Tom**"
   ]
  },
  {
   "cell_type": "code",
   "execution_count": null,
   "metadata": {
    "colab": {
     "base_uri": "https://localhost:8080/"
    },
    "id": "9LsIt6uYhnz3",
    "outputId": "077ec2ca-46f8-4e65-af47-f79bf9d4dd39"
   },
   "outputs": [],
   "source": [
    "tom_data = X['GDP']\n",
    "tom_data.head()"
   ]
  },
  {
   "cell_type": "markdown",
   "metadata": {
    "id": "pAACAFS-iTsj"
   },
   "source": [
    "Visualzing Life expectancy vs GDP plot"
   ]
  },
  {
   "cell_type": "code",
   "execution_count": null,
   "metadata": {
    "colab": {
     "base_uri": "https://localhost:8080/",
     "height": 628
    },
    "id": "ePPbd1z5iTsk",
    "outputId": "cb28c347-02d1-425d-8346-fb173e59a469"
   },
   "outputs": [],
   "source": [
    "fig = plt.figure()\n",
    "ax = fig.add_subplot()\n",
    "\n",
    "ax.scatter(tom_data, Y)\n",
    "\n",
    "ax.set_xlabel('GDP')\n",
    "ax.set_ylabel('Life expectancy')"
   ]
  },
  {
   "cell_type": "markdown",
   "metadata": {
    "id": "QRwCUyACihGU"
   },
   "source": [
    "Preprocessing data"
   ]
  },
  {
   "cell_type": "code",
   "execution_count": null,
   "metadata": {
    "colab": {
     "base_uri": "https://localhost:8080/"
    },
    "id": "fdMv5tetihGa",
    "outputId": "36cd5f00-58dd-496d-c430-9939e1583f23"
   },
   "outputs": [],
   "source": [
    "tom_data_ready = preprocess(tom_data)\n",
    "tom_data_ready.shape"
   ]
  },
  {
   "cell_type": "code",
   "execution_count": null,
   "metadata": {
    "colab": {
     "base_uri": "https://localhost:8080/"
    },
    "id": "1aHM2U0AihGb",
    "outputId": "f56f93c5-7e38-451e-ef76-1758f60c3c8d"
   },
   "outputs": [],
   "source": [
    "tom_theta = normal_equation(tom_data_ready, Y)\n",
    "print(f'y = mx + b')\n",
    "print(f'y = {tom_theta[1]}x + {tom_theta[0]}')"
   ]
  },
  {
   "cell_type": "code",
   "execution_count": null,
   "metadata": {
    "colab": {
     "base_uri": "https://localhost:8080/",
     "height": 395
    },
    "id": "iuiQ7nq7ihGb",
    "outputId": "5703c7da-33b5-4e29-e22b-6744e69a588a"
   },
   "outputs": [],
   "source": [
    "plt.figure(figsize=(10,6))\n",
    "plt.title('Life expectancy regression using $\\\\theta_0$ = {} , $\\\\theta_1$ = {}'.format(tom_theta[0], tom_theta[1]))\n",
    "plt.scatter(tom_data,Y, marker='o')\n",
    "plt.plot(tom_data,np.dot(tom_data_ready, tom_theta), color='r')\n",
    "plt.show()"
   ]
  },
  {
   "cell_type": "code",
   "execution_count": null,
   "metadata": {
    "colab": {
     "base_uri": "https://localhost:8080/"
    },
    "id": "CgyQW0U-ihGc",
    "outputId": "16a950bd-8ff5-4533-bb49-e4b06e21a55e"
   },
   "outputs": [],
   "source": [
    "def life_expectancy(X, theta):\n",
    "    X = np.concatenate((np.ones(1),np.array(X)),axis=0)\n",
    "    return round(np.dot(X, theta),1)\n",
    "\n",
    "gdp = 8500 #float(input(\"Please input the GDP of your country: \")) #8500\n",
    "life_exp_tom = life_expectancy([gdp], tom_theta)\n",
    "print(\"Tom's life expectancy is\", life_exp_tom , \"years.\")"
   ]
  },
  {
   "cell_type": "code",
   "execution_count": null,
   "metadata": {
    "colab": {
     "base_uri": "https://localhost:8080/"
    },
    "id": "95LO-JB8qADD",
    "outputId": "ab5f1072-f2d7-44c3-b2f2-b16e4f3b7572"
   },
   "outputs": [],
   "source": [
    "gdp = 5000 #float(input(\"Please input the GDP of your country: \")) #8500\n",
    "life_exp_tom_tim = life_expectancy([gdp], tom_theta)\n",
    "print(\"Tim's life expectancy predicted by Tom is\", life_exp_tom_tim , \"years.\")"
   ]
  },
  {
   "cell_type": "markdown",
   "metadata": {
    "id": "kyv3lOTVjzBM"
   },
   "source": [
    "#**MULTIPLE REGRESSION**"
   ]
  },
  {
   "cell_type": "markdown",
   "metadata": {
    "id": "7MSKT2Ltj27V"
   },
   "source": [
    "#**4. Multiple Regression with Tim**"
   ]
  },
  {
   "cell_type": "code",
   "execution_count": null,
   "metadata": {
    "colab": {
     "base_uri": "https://localhost:8080/",
     "height": 206
    },
    "id": "IGZLYuJkjemU",
    "outputId": "5f9a51da-2e8a-4693-9a3b-96525cbd768f"
   },
   "outputs": [],
   "source": [
    "tim_data = X[['BMI', 'Adult_mortality', 'HIV/AIDS']]\n",
    "tim_data.head()"
   ]
  },
  {
   "cell_type": "code",
   "execution_count": null,
   "metadata": {
    "colab": {
     "base_uri": "https://localhost:8080/"
    },
    "id": "SQwv0BTXkUDN",
    "outputId": "db5a6984-4705-4486-be84-2f35d471ef77"
   },
   "outputs": [],
   "source": [
    "def add_ones(X):\n",
    "    return np.concatenate((np.ones(len(X)).reshape(-1,1), X), axis=1)\n",
    "\n",
    "tim_data_ready = add_ones(tim_data)\n",
    "tim_data_ready.shape"
   ]
  },
  {
   "cell_type": "code",
   "execution_count": null,
   "metadata": {
    "colab": {
     "base_uri": "https://localhost:8080/"
    },
    "id": "rPHuaKYEkf-2",
    "outputId": "90c9f96e-a679-4ef8-d552-7248ca7302af"
   },
   "outputs": [],
   "source": [
    "tim_theta = normal_equation(tim_data_ready, Y)\n",
    "print(f'theta = {tim_theta}')"
   ]
  },
  {
   "cell_type": "code",
   "execution_count": null,
   "metadata": {
    "colab": {
     "base_uri": "https://localhost:8080/"
    },
    "id": "gamoPM6ek3jN",
    "outputId": "10c3d94b-a7db-4eb6-9a06-15b6163b4baf"
   },
   "outputs": [],
   "source": [
    "def RMSE(y_pred, y):\n",
    "    return np.sqrt(metrics.mean_squared_error(y, y_pred))\n",
    "\n",
    "tim_y_pred = np.dot(tim_data_ready, tim_theta)\n",
    "tim_rmse = RMSE(tim_y_pred, Y)\n",
    "\n",
    "print(\"Tim's RMSE: \", tim_rmse)"
   ]
  },
  {
   "cell_type": "code",
   "execution_count": null,
   "metadata": {
    "colab": {
     "base_uri": "https://localhost:8080/"
    },
    "id": "_H0bhUHslUkg",
    "outputId": "c887985f-1073-4977-a397-156809b0c5d6"
   },
   "outputs": [],
   "source": [
    "#def life_expectancy(X, theta):\n",
    "#    X = np.concatenate((np.ones(1),np.array(X)),axis=0)\n",
    "#    return round(np.dot(X, theta),1)\n",
    "\n",
    "height = 1.82 #float(input(\"Please input your height (in meters): \"))\n",
    "weight = 80 #float(input(\"Please input your weight (in kilograms): \"))\n",
    "bmi = weight / height**2\n",
    "print(\"BMI:\",bmi)\n",
    "adult_mortality = 53\n",
    "hiv = 0.1\n",
    "life_exp_tim = life_expectancy([bmi,adult_mortality,hiv], tim_theta)\n",
    "print(\"Tim's life expectancy is\", life_exp_tim , \"years.\")"
   ]
  },
  {
   "cell_type": "code",
   "execution_count": null,
   "metadata": {
    "colab": {
     "base_uri": "https://localhost:8080/"
    },
    "id": "eIjgubDvos0k",
    "outputId": "8654ae08-41e9-4be2-8d26-b055f4aaa465"
   },
   "outputs": [],
   "source": [
    "height = 1.80 #float(input(\"Please input your height (in meters): \"))\n",
    "weight = 73 #float(input(\"Please input your weight (in kilograms): \"))\n",
    "bmi = weight / height**2\n",
    "print(\"BMI:\",bmi)\n",
    "adult_mortality = 70\n",
    "hiv = 0.1\n",
    "life_exp_tim_tom = life_expectancy([bmi,adult_mortality,hiv], tim_theta)\n",
    "print(\"Tom's life expectancy predicted by Tim is\", life_exp_tim_tom , \"years.\")"
   ]
  },
  {
   "cell_type": "markdown",
   "metadata": {
    "id": "kPhxc-iTmXAw"
   },
   "source": [
    "#**5. Multiple Regression with Tom**"
   ]
  },
  {
   "cell_type": "code",
   "execution_count": null,
   "metadata": {
    "colab": {
     "base_uri": "https://localhost:8080/",
     "height": 206
    },
    "id": "_lc2UnMumjiD",
    "outputId": "366f68b0-f774-4776-cf92-765cbef645e9"
   },
   "outputs": [],
   "source": [
    "tom_data = X[['GDP', 'Income_composition_of_resources', 'Schooling']]\n",
    "tom_data.head()"
   ]
  },
  {
   "cell_type": "code",
   "execution_count": null,
   "metadata": {
    "colab": {
     "base_uri": "https://localhost:8080/"
    },
    "id": "kkt0l4fYmjiJ",
    "outputId": "57b52831-0ae6-4997-c27e-25ee10c94bd5"
   },
   "outputs": [],
   "source": [
    "tom_data_ready = add_ones(tom_data)\n",
    "tom_data_ready.shape"
   ]
  },
  {
   "cell_type": "code",
   "execution_count": null,
   "metadata": {
    "colab": {
     "base_uri": "https://localhost:8080/"
    },
    "id": "GM0IQvZEmjiJ",
    "outputId": "7270e29c-29f7-47e6-bb31-09ed3d5c347c"
   },
   "outputs": [],
   "source": [
    "tom_theta = normal_equation(tom_data_ready, Y)\n",
    "print(f'theta = {tom_theta}')"
   ]
  },
  {
   "cell_type": "code",
   "execution_count": null,
   "metadata": {
    "colab": {
     "base_uri": "https://localhost:8080/"
    },
    "id": "wxwcHWWCmjiK",
    "outputId": "b494ba51-8712-4ce7-82a2-3013ae7bd5ad"
   },
   "outputs": [],
   "source": [
    "def RMSE(y_pred, y):\n",
    "    return np.sqrt(metrics.mean_squared_error(y, y_pred))\n",
    "\n",
    "tom_y_pred = np.dot(tom_data_ready, tom_theta)\n",
    "tom_rmse = RMSE(tom_y_pred, Y)\n",
    "\n",
    "print(\"Tom's RMSE: \", tom_rmse)"
   ]
  },
  {
   "cell_type": "code",
   "execution_count": null,
   "metadata": {
    "colab": {
     "base_uri": "https://localhost:8080/"
    },
    "id": "5TGyhnOVmjiK",
    "outputId": "8c94427a-fe4c-4f46-f6de-b0e89191573a"
   },
   "outputs": [],
   "source": [
    "gdp = 8500\n",
    "income = 0.8\n",
    "school = 16.5\n",
    "life_exp_tom = life_expectancy([gdp,income,school], tom_theta)\n",
    "print(\"Tom's life expectancy is\", life_exp_tom , \"years.\")"
   ]
  },
  {
   "cell_type": "code",
   "execution_count": null,
   "metadata": {
    "colab": {
     "base_uri": "https://localhost:8080/"
    },
    "id": "2WT2fKbgn8ge",
    "outputId": "b319fa9d-f0fc-4465-99b9-b9ca4e6d6953"
   },
   "outputs": [],
   "source": [
    "gdp = 5000\n",
    "income = 0.77\n",
    "school = 15.5\n",
    "life_exp_tom_tim = life_expectancy([gdp,income,school], tom_theta)\n",
    "print(\"Tim's life expectancy predicted by Tom is\", life_exp_tom_tim , \"years.\")"
   ]
  },
  {
   "cell_type": "markdown",
   "metadata": {
    "id": "gfKbwNZlpvOM"
   },
   "source": [
    "#**Now your turn, try to use all 6 variables or choose variables on your own**"
   ]
  },
  {
   "cell_type": "code",
   "execution_count": null,
   "metadata": {
    "id": "Tdg6pRklpqc3"
   },
   "outputs": [],
   "source": [
    "##CODE HERE"
   ]
  }
 ],
 "metadata": {
  "colab": {
   "name": "Linear Regression + Gradient Descent + PyTorch.ipynb",
   "provenance": []
  },
  "kernelspec": {
   "display_name": "Python 3 (ipykernel)",
   "language": "python",
   "name": "python3"
  },
  "language_info": {
   "codemirror_mode": {
    "name": "ipython",
    "version": 3
   },
   "file_extension": ".py",
   "mimetype": "text/x-python",
   "name": "python",
   "nbconvert_exporter": "python",
   "pygments_lexer": "ipython3",
   "version": "3.10.7"
  }
 },
 "nbformat": 4,
 "nbformat_minor": 1
}
